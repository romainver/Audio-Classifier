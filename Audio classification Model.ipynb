{
 "cells": [
  {
   "cell_type": "markdown",
   "metadata": {},
   "source": [
    "# Audio Classifier Model"
   ]
  },
  {
   "cell_type": "code",
   "execution_count": null,
   "metadata": {},
   "outputs": [],
   "source": []
  },
  {
   "cell_type": "code",
   "execution_count": 1,
   "metadata": {},
   "outputs": [
    {
     "name": "stderr",
     "output_type": "stream",
     "text": [
      "Using TensorFlow backend.\n"
     ]
    }
   ],
   "source": [
    "import os\n",
    "from scipy.io import wavfile\n",
    "import pandas as pd\n",
    "import matplotlib.pyplot as plt\n",
    "import numpy as np\n",
    "from keras.layers import Conv2D, MaxPool2D, Flatten, LSTM\n",
    "from keras.layers import Dropout, Dense, TimeDistributed\n",
    "from keras.models import Sequential\n",
    "from keras.utils import to_categorical\n",
    "from sklearn.utils.class_weight import compute_class_weight\n",
    "from tqdm import tqdm\n",
    "from python_speech_features import mfcc\n",
    "%matplotlib inline\n",
    "#CLass used to tweak hyperparameters easily\n",
    "class Config:\n",
    "    def __init__(self, mode='conv', nfilt=26, nfeat=13, nfft=512, rate=16000):\n",
    "        #mode is the neural network we are going to use (between convolutional and recurrent)\n",
    "        self.mode = mode\n",
    "        #nfilt is the nb of filters used for the mel filter bank\n",
    "        self.nfilt = nfilt\n",
    "        #nfeat is the nb of filter kept for the mel cepstrum coefficient\n",
    "        self.nfeat = nfeat\n",
    "        #nfft is the nb of points inside a window\n",
    "        self.nfft = nfft\n",
    "        #rate is the sampling rate in Hz\n",
    "        self.rate = rate\n",
    "        #number of sampels in a window\n",
    "        self.step = int(rate/10)\n",
    "def generate_features(mode='train'):\n",
    "    X = []\n",
    "    y = []\n",
    "    _min, _max = float('inf'), float('-inf')\n",
    "    for _ in tqdm(range(n_samples)):\n",
    "        #pick randomly a class based on the mean record length of each class\n",
    "        rand_class = np.random.choice(class_dist.index, p = prob_dist)\n",
    "        #pick randomly a file from the class chosen \n",
    "        file = np.random.choice(df[df.label == rand_class].index)\n",
    "        #load the file\n",
    "        if mode=='train':\n",
    "            rate, wav = wavfile.read('/home/romain/TF Notebooks/Audio Classifier/clean/'+file)\n",
    "        else :\n",
    "            rate, wav = wavfile.read('/home/romain/TF Notebooks/Audio Classifier/clean_test/'+file)\n",
    "        #get the label of the chosen file\n",
    "        label = df.at[file,'label']\n",
    "        #pick the index of where to start the window in our sample\n",
    "        rand_index = np.random.randint(0,wav.shape[0]-config.step)\n",
    "        #get all the data points within the window\n",
    "        sample = wav[rand_index:rand_index + config.step]\n",
    "        #convert sample to mfcc sample\n",
    "        X_sample = mfcc(sample, rate, numcep=config.nfeat,nfilt=config.nfilt, nfft=config.nfft).T\n",
    "        #compare min and max value of current sample with min and max values of all samples\n",
    "        _min = min(np.amin(X_sample), _min)\n",
    "        _max = max(np.amax(X_sample), _max)\n",
    "        #add feature to global array, transpose the matrix or not depending on the type of NN used\n",
    "        X.append(X_sample if config.mode == 'conv' else X_sample.T)\n",
    "        #add number label corresponding to string label to global array\n",
    "        y.append(classes.index(label))\n",
    "    #convert arrays to numpy arrays\n",
    "    X,y = np.array(X), np.array(y)\n",
    "    #normalize the samples between 0 and 1 values\n",
    "    X = (X - _min) / (_max - _min)\n",
    "    if config.mode=='conv':\n",
    "        #Add the 1 pixel for CNN (always put a constant 1 in the input for CNN)\n",
    "        X = X.reshape(X.shape[0], X.shape[1], X.shape[2], 1)\n",
    "    elif config.mode == 'time':\n",
    "        X = X.reshape(X.shape[0],X.shape[1],X.shape[2])\n",
    "        #OneHot encoding of the label for the cost function\n",
    "    y = to_categorical(y, num_classes=10)\n",
    "    return X,y\n",
    "\n",
    "def get_cnn_model():\n",
    "    #allows to stack up layers without specifying which ones are connected to which ones\n",
    "    model = Sequential()\n",
    "    #Convlayers\n",
    "    model.add(Conv2D(16, (3,3), activation='relu', strides=(1,1), padding='same', input_shape=input_shape))\n",
    "    model.add(Conv2D(32, (3,3), activation='relu', strides=(1,1), padding='same'))\n",
    "    model.add(Conv2D(64, (3,3), activation='relu', strides=(1,1), padding='same'))\n",
    "    model.add(Conv2D(128, (3,3), activation='relu', strides=(1,1), padding='same'))\n",
    "    #pooling layer\n",
    "    model.add(MaxPool2D((2,2)))\n",
    "    model.add(Dropout(0.5))\n",
    "    model.add(Flatten())\n",
    "    #dense layers\n",
    "    model.add(Dense(128,activation='relu'))\n",
    "    model.add(Dense(64,activation='relu'))\n",
    "    model.add(Dense(10,activation='softmax'))\n",
    "    model.summary()\n",
    "    #optimizer\n",
    "    model.compile(loss='categorical_crossentropy', optimizer='adam', metrics=['acc'])\n",
    "    return model\n",
    "\n",
    "def get_rnn_model():\n",
    "    #allows to stack up layers without specifying which ones are connected to which ones\n",
    "    model = Sequential()\n",
    "    #CNN layers\n",
    "    model.add(LSTM(128, return_sequences=True, input_shape=input_shape))\n",
    "    model.add(LSTM(128, return_sequences=True))\n",
    "    model.add(Dropout(0.5))\n",
    "    model.add(TimeDistributed(Dense(64, activation='relu')))\n",
    "    model.add(TimeDistributed(Dense(32, activation='relu')))\n",
    "    model.add(TimeDistributed(Dense(16, activation='relu')))\n",
    "    model.add(TimeDistributed(Dense(8, activation='relu')))\n",
    "    model.add(Flatten())\n",
    "    model.add(Dense(10,activation='softmax'))\n",
    "    model.summary()\n",
    "    model.compile(loss='categorical_crossentropy', optimizer='adam', metrics=['acc'])\n",
    "    return model\n",
    "\n",
    "df = pd.read_csv('/home/romain/TF Notebooks/Audio Classifier/instruments.csv')\n",
    "df.set_index('fname', inplace=True)\n",
    "\n",
    "for f in df.index:\n",
    "    rate, signal = wavfile.read('/home/romain/TF Notebooks/Audio Classifier/clean/'+f)\n",
    "    df.at[f, 'length'] = signal.shape[0]/rate\n",
    "# sum up the lenght of all samples, divide it by window size to get number of total windows, and multiply by 2 to have enough samples\n",
    "n_samples = 2 * int(df['length'].sum() / 0.1)\n",
    "#Create a list of all possible classes\n",
    "classes = list(np.unique(df.label))\n",
    "#get the mean length of a record for each classes\n",
    "class_dist = df.groupby(['label'])['length'].mean()\n",
    "#convert the mean length to a float between 0 and 1\n",
    "prob_dist = class_dist / class_dist.sum()\n",
    "#pick randomly a class based on the mean record length of each class\n",
    "choices = np.random.choice(class_dist.index, p= prob_dist)\n",
    "\n",
    "\n"
   ]
  },
  {
   "cell_type": "markdown",
   "metadata": {},
   "source": [
    "# Creating the model"
   ]
  },
  {
   "cell_type": "code",
   "execution_count": 2,
   "metadata": {
    "scrolled": false
   },
   "outputs": [
    {
     "name": "stderr",
     "output_type": "stream",
     "text": [
      "100%|██████████| 26410/26410 [01:23<00:00, 316.68it/s]\n",
      "100%|██████████| 52584/52584 [02:53<00:00, 310.24it/s]\n"
     ]
    },
    {
     "name": "stdout",
     "output_type": "stream",
     "text": [
      "WARNING:tensorflow:From /home/romain/anaconda3/lib/python3.7/site-packages/tensorflow/python/framework/op_def_library.py:263: colocate_with (from tensorflow.python.framework.ops) is deprecated and will be removed in a future version.\n",
      "Instructions for updating:\n",
      "Colocations handled automatically by placer.\n",
      "WARNING:tensorflow:From /home/romain/anaconda3/lib/python3.7/site-packages/keras/backend/tensorflow_backend.py:3445: calling dropout (from tensorflow.python.ops.nn_ops) with keep_prob is deprecated and will be removed in a future version.\n",
      "Instructions for updating:\n",
      "Please use `rate` instead of `keep_prob`. Rate should be set to `rate = 1 - keep_prob`.\n",
      "_________________________________________________________________\n",
      "Layer (type)                 Output Shape              Param #   \n",
      "=================================================================\n",
      "conv2d_1 (Conv2D)            (None, 13, 9, 16)         160       \n",
      "_________________________________________________________________\n",
      "conv2d_2 (Conv2D)            (None, 13, 9, 32)         4640      \n",
      "_________________________________________________________________\n",
      "conv2d_3 (Conv2D)            (None, 13, 9, 64)         18496     \n",
      "_________________________________________________________________\n",
      "conv2d_4 (Conv2D)            (None, 13, 9, 128)        73856     \n",
      "_________________________________________________________________\n",
      "max_pooling2d_1 (MaxPooling2 (None, 6, 4, 128)         0         \n",
      "_________________________________________________________________\n",
      "dropout_1 (Dropout)          (None, 6, 4, 128)         0         \n",
      "_________________________________________________________________\n",
      "flatten_1 (Flatten)          (None, 3072)              0         \n",
      "_________________________________________________________________\n",
      "dense_1 (Dense)              (None, 128)               393344    \n",
      "_________________________________________________________________\n",
      "dense_2 (Dense)              (None, 64)                8256      \n",
      "_________________________________________________________________\n",
      "dense_3 (Dense)              (None, 10)                650       \n",
      "=================================================================\n",
      "Total params: 499,402\n",
      "Trainable params: 499,402\n",
      "Non-trainable params: 0\n",
      "_________________________________________________________________\n"
     ]
    }
   ],
   "source": [
    "config = Config(mode='conv')\n",
    "# get the preprocessed features and labels\n",
    "X,y = generate_features('train')\n",
    "df = pd.read_csv('/home/romain/TF Notebooks/Audio Classifier/test.csv')\n",
    "df.set_index('fname',inplace=True)\n",
    "for f in df.index:\n",
    "    rate, signal = wavfile.read('/home/romain/TF Notebooks/Audio Classifier/clean_test/'+f)\n",
    "    df.at[f, 'length'] = signal.shape[0]/rate\n",
    "# sum up the lenght of all samples, divide it by window size to get number of total windows, and multiply by 2 to have enough samples\n",
    "n_samples = 2 * int(df['length'].sum() / 0.1)\n",
    "#Create a list of all possible classes\n",
    "classes = list(np.unique(df.label))\n",
    "#get the mean length of a record for each classes\n",
    "class_dist = df.groupby(['label'])['length'].mean()\n",
    "#convert the mean length to a float between 0 and 1\n",
    "prob_dist = class_dist / class_dist.sum()\n",
    "#pick randomly a class based on the mean record length of each class\n",
    "choices = np.random.choice(class_dist.index, p= prob_dist)\n",
    "X_test,y_test = generate_features('test')\n",
    "if config.mode == 'conv':\n",
    "    #convert OneHot back to normal\n",
    "    y_flat = np.argmax(y, axis=1)\n",
    "    #shape parameter for CNN model (drop the nb of samples from the shape)\n",
    "    input_shape = (X.shape[1],X.shape[2],1)\n",
    "    #get the model\n",
    "    model = get_cnn_model()\n",
    "elif config.mode == 'time':\n",
    "    #convert OneHot back to normal\n",
    "    y_flat = np.argmax(y, axis=1)\n",
    "    #shape parameter for CNN model (drop the nb of samples from the shape)\n",
    "    input_shape = (X.shape[1],X.shape[2])\n",
    "    #get the model\n",
    "    model = get_rnn_model()    "
   ]
  },
  {
   "cell_type": "markdown",
   "metadata": {},
   "source": [
    "# Training  the model"
   ]
  },
  {
   "cell_type": "code",
   "execution_count": 41,
   "metadata": {},
   "outputs": [
    {
     "name": "stdout",
     "output_type": "stream",
     "text": [
      "Train on 47325 samples, validate on 5259 samples\n",
      "Epoch 1/10\n",
      "47325/47325 [==============================] - 76s 2ms/step - loss: 0.6555 - acc: 0.7674 - val_loss: 0.3726 - val_acc: 0.8701\n",
      "Epoch 2/10\n",
      "47325/47325 [==============================] - 75s 2ms/step - loss: 0.3852 - acc: 0.8630 - val_loss: 0.3255 - val_acc: 0.8914\n",
      "Epoch 3/10\n",
      "47325/47325 [==============================] - 76s 2ms/step - loss: 0.2988 - acc: 0.8947 - val_loss: 0.2673 - val_acc: 0.9080\n",
      "Epoch 4/10\n",
      "47325/47325 [==============================] - 77s 2ms/step - loss: 0.2463 - acc: 0.9128 - val_loss: 0.1893 - val_acc: 0.9325\n",
      "Epoch 5/10\n",
      "47325/47325 [==============================] - 70s 1ms/step - loss: 0.2236 - acc: 0.9203 - val_loss: 0.1816 - val_acc: 0.9418\n",
      "Epoch 6/10\n",
      "47325/47325 [==============================] - 76s 2ms/step - loss: 0.2048 - acc: 0.9270 - val_loss: 0.1554 - val_acc: 0.9523\n",
      "Epoch 7/10\n",
      "47325/47325 [==============================] - 77s 2ms/step - loss: 0.1815 - acc: 0.9360 - val_loss: 0.1484 - val_acc: 0.9498\n",
      "Epoch 8/10\n",
      "47325/47325 [==============================] - 84s 2ms/step - loss: 0.1681 - acc: 0.9406 - val_loss: 0.1680 - val_acc: 0.9422\n",
      "Epoch 9/10\n",
      "47325/47325 [==============================] - 89s 2ms/step - loss: 0.1586 - acc: 0.9442 - val_loss: 0.2007 - val_acc: 0.9336\n",
      "Epoch 10/10\n",
      "47325/47325 [==============================] - 88s 2ms/step - loss: 0.1500 - acc: 0.9463 - val_loss: 0.1653 - val_acc: 0.9447\n"
     ]
    },
    {
     "data": {
      "text/plain": [
       "<keras.callbacks.History at 0x7fd94c6d42e8>"
      ]
     },
     "execution_count": 41,
     "metadata": {},
     "output_type": "execute_result"
    }
   ],
   "source": [
    "#get the weight of each classes\n",
    "class_weight = compute_class_weight('balanced',np.unique(y_flat), y_flat)\n",
    "#fit the model\n",
    "model.fit(X, y, epochs=10, batch_size=32, shuffle = True, class_weight = class_weight, validation_split=0.1)"
   ]
  },
  {
   "cell_type": "markdown",
   "metadata": {},
   "source": [
    "# Predictions"
   ]
  },
  {
   "cell_type": "code",
   "execution_count": 63,
   "metadata": {},
   "outputs": [
    {
     "name": "stdout",
     "output_type": "stream",
     "text": [
      "Accuracy : 54.43392654297614 %\n"
     ]
    }
   ],
   "source": [
    "predictions = model.predict(X,batch_size=32)\n",
    "label = []\n",
    "for p in predictions:\n",
    "    maximum = np.max(p)\n",
    "    label.append(np.where(maximum == p)[0])\n",
    "true_label = []\n",
    "for l in y:\n",
    "    maximum = np.max(l)\n",
    "    true_label.append(np.where(maximum == l)[0])\n",
    "errors = 0\n",
    "for i in range(len(label)):\n",
    "    if label[i] != true_label[i]:\n",
    "        errors = errors + 1\n",
    "print(\"Accuracy : \"+str((len(label)-errors)/len(label) * 100)+\" %\")"
   ]
  },
  {
   "cell_type": "markdown",
   "metadata": {},
   "source": [
    "# Confusion Matrix"
   ]
  },
  {
   "cell_type": "code",
   "execution_count": 64,
   "metadata": {},
   "outputs": [
    {
     "data": {
      "image/png": "[encoded data removed]",
      "text/plain": [
       "<Figure size 576x432 with 2 Axes>"
      ]
     },
     "metadata": {
      "needs_background": "light"
     },
     "output_type": "display_data"
    }
   ],
   "source": [
    "from sklearn import metrics\n",
    "def plot_confusion_matrix(cm,\n",
    "                          target_names,\n",
    "                          title='Confusion matrix',\n",
    "                          cmap=None,\n",
    "                          normalize=True):\n",
    "\n",
    "    import itertools\n",
    "\n",
    "    accuracy = np.trace(cm) / float(np.sum(cm))\n",
    "    misclass = 1 - accuracy\n",
    "\n",
    "    if cmap is None:\n",
    "        cmap = plt.get_cmap('Blues')\n",
    "\n",
    "    plt.figure(figsize=(8, 6))\n",
    "    plt.imshow(cm, interpolation='nearest', cmap=cmap)\n",
    "    plt.title(title)\n",
    "    plt.colorbar()\n",
    "\n",
    "    if target_names is not None:\n",
    "        tick_marks = np.arange(len(target_names))\n",
    "        plt.xticks(tick_marks, target_names, rotation=45)\n",
    "        plt.yticks(tick_marks, target_names)\n",
    "\n",
    "    if normalize:\n",
    "        cm = cm.astype('float') / cm.sum(axis=1)[:, np.newaxis]\n",
    "\n",
    "\n",
    "    thresh = cm.max() / 1.5 if normalize else cm.max() / 2\n",
    "    for i, j in itertools.product(range(cm.shape[0]), range(cm.shape[1])):\n",
    "        if normalize:\n",
    "            plt.text(j, i, \"{:0.4f}\".format(cm[i, j]),\n",
    "                     horizontalalignment=\"center\",\n",
    "                     color=\"white\" if cm[i, j] > thresh else \"black\")\n",
    "        else:\n",
    "            plt.text(j, i, \"{:,}\".format(cm[i, j]),\n",
    "                     horizontalalignment=\"center\",\n",
    "                     color=\"white\" if cm[i, j] > thresh else \"black\")\n",
    "\n",
    "\n",
    "    plt.tight_layout()\n",
    "    plt.ylabel('True label')\n",
    "    plt.xlabel('Predicted label\\naccuracy={:0.4f}; misclass={:0.4f}'.format(accuracy, misclass))\n",
    "    plt.show()\n",
    "matrix = metrics.confusion_matrix(true_label, label)\n",
    "plot_confusion_matrix(matrix,classes,normalize=False)"
   ]
  },
  {
   "cell_type": "code",
   "execution_count": null,
   "metadata": {},
   "outputs": [],
   "source": []
  }
 ],
 "metadata": {
  "kernelspec": {
   "display_name": "Python 3",
   "language": "python",
   "name": "python3"
  },
  "language_info": {
   "codemirror_mode": {
    "name": "ipython",
    "version": 3
   },
   "file_extension": ".py",
   "mimetype": "text/x-python",
   "name": "python",
   "nbconvert_exporter": "python",
   "pygments_lexer": "ipython3",
   "version": "3.7.1"
  }
 },
 "nbformat": 4,
 "nbformat_minor": 2
}
